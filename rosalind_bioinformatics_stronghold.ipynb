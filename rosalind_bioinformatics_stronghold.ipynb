{
 "cells": [
  {
   "cell_type": "markdown",
   "metadata": {},
   "source": [
    "# Rosalind - Bioinformatics Stronghold"
   ]
  },
  {
   "cell_type": "code",
   "execution_count": 1,
   "metadata": {},
   "outputs": [],
   "source": [
    "from itertools import product\n",
    "\n",
    "import numpy as np\n",
    "import pandas as pd\n",
    "\n",
    "import requests"
   ]
  },
  {
   "cell_type": "code",
   "execution_count": 2,
   "metadata": {},
   "outputs": [],
   "source": [
    "def open_FASTA_file(file_directory):\n",
    "    file = open(file_directory)\n",
    "    file_items = {}\n",
    "    item = \"\"\n",
    "    for line in file:\n",
    "        if line[0] == \">\":\n",
    "            ID = line.strip(\"\\n\")\n",
    "            file_items[ID] = \"\"\n",
    "        else:\n",
    "            file_items[ID] +=line.strip(\"\\n\")\n",
    "        \n",
    "    return file_items"
   ]
  },
  {
   "cell_type": "markdown",
   "metadata": {},
   "source": [
    "## LCSM - Finding a Shared Motif"
   ]
  },
  {
   "cell_type": "code",
   "execution_count": 3,
   "metadata": {},
   "outputs": [
    {
     "ename": "FileNotFoundError",
     "evalue": "[Errno 2] No such file or directory: 'sample'",
     "output_type": "error",
     "traceback": [
      "\u001b[1;31m---------------------------------------------------------------------------\u001b[0m",
      "\u001b[1;31mFileNotFoundError\u001b[0m                         Traceback (most recent call last)",
      "\u001b[1;32mc:\\Users\\vente\\OneDrive\\Documents\\Code\\bioinformatics_challenges\\rosalind_bioinformatics_stronghold.ipynb Cell 5\u001b[0m in \u001b[0;36m<cell line: 1>\u001b[1;34m()\u001b[0m\n\u001b[1;32m----> <a href='vscode-notebook-cell:/c%3A/Users/vente/OneDrive/Documents/Code/bioinformatics_challenges/rosalind_bioinformatics_stronghold.ipynb#W4sZmlsZQ%3D%3D?line=0'>1</a>\u001b[0m motifs \u001b[39m=\u001b[39m open_FASTA_file(\u001b[39m\"\u001b[39;49m\u001b[39msample\u001b[39;49m\u001b[39m\"\u001b[39;49m)\n\u001b[0;32m      <a href='vscode-notebook-cell:/c%3A/Users/vente/OneDrive/Documents/Code/bioinformatics_challenges/rosalind_bioinformatics_stronghold.ipynb#W4sZmlsZQ%3D%3D?line=1'>2</a>\u001b[0m motifs \u001b[39m=\u001b[39m \u001b[39mlist\u001b[39m(motifs\u001b[39m.\u001b[39mvalues())\n\u001b[0;32m      <a href='vscode-notebook-cell:/c%3A/Users/vente/OneDrive/Documents/Code/bioinformatics_challenges/rosalind_bioinformatics_stronghold.ipynb#W4sZmlsZQ%3D%3D?line=3'>4</a>\u001b[0m \u001b[39mdef\u001b[39;00m \u001b[39mshortest_motif\u001b[39m(motifs):\n",
      "\u001b[1;32mc:\\Users\\vente\\OneDrive\\Documents\\Code\\bioinformatics_challenges\\rosalind_bioinformatics_stronghold.ipynb Cell 5\u001b[0m in \u001b[0;36mopen_FASTA_file\u001b[1;34m(file_directory)\u001b[0m\n\u001b[0;32m      <a href='vscode-notebook-cell:/c%3A/Users/vente/OneDrive/Documents/Code/bioinformatics_challenges/rosalind_bioinformatics_stronghold.ipynb#W4sZmlsZQ%3D%3D?line=0'>1</a>\u001b[0m \u001b[39mdef\u001b[39;00m \u001b[39mopen_FASTA_file\u001b[39m(file_directory):\n\u001b[1;32m----> <a href='vscode-notebook-cell:/c%3A/Users/vente/OneDrive/Documents/Code/bioinformatics_challenges/rosalind_bioinformatics_stronghold.ipynb#W4sZmlsZQ%3D%3D?line=1'>2</a>\u001b[0m     file \u001b[39m=\u001b[39m \u001b[39mopen\u001b[39;49m(file_directory)\n\u001b[0;32m      <a href='vscode-notebook-cell:/c%3A/Users/vente/OneDrive/Documents/Code/bioinformatics_challenges/rosalind_bioinformatics_stronghold.ipynb#W4sZmlsZQ%3D%3D?line=2'>3</a>\u001b[0m     file_items \u001b[39m=\u001b[39m {}\n\u001b[0;32m      <a href='vscode-notebook-cell:/c%3A/Users/vente/OneDrive/Documents/Code/bioinformatics_challenges/rosalind_bioinformatics_stronghold.ipynb#W4sZmlsZQ%3D%3D?line=3'>4</a>\u001b[0m     item \u001b[39m=\u001b[39m \u001b[39m\"\u001b[39m\u001b[39m\"\u001b[39m\n",
      "\u001b[1;31mFileNotFoundError\u001b[0m: [Errno 2] No such file or directory: 'sample'"
     ]
    }
   ],
   "source": [
    "motifs = open_FASTA_file(\"sample\")\n",
    "motifs = list(motifs.values())\n",
    "\n",
    "def shortest_motif(motifs):\n",
    "    shortest_motif_length = min(list(map(len, motifs)))\n",
    "    for motif in motifs:\n",
    "        if len(motif) == shortest_motif_length:\n",
    "            return motif       \n",
    "\n",
    "def create_frames(reference, size):\n",
    "    frames = []\n",
    "    for frame in range(len(reference)):\n",
    "        if frame + size <= len(reference):\n",
    "            frames.append(reference[frame:frame+size])\n",
    "    frames = list(set(frames))\n",
    "\n",
    "    return frames\n",
    "\n",
    "def find_longest_common_substring(motifs, size):\n",
    "    if size > 0:\n",
    "        reference_motif = shortest_motif(motifs=motifs)\n",
    "        frames = create_frames(reference_motif, size)\n",
    "\n",
    "        for frame in frames:\n",
    "            is_substring = []\n",
    "            for motif in motifs:\n",
    "                is_substring.append(motif.find(frame))\n",
    "            \n",
    "            if -1 not in is_substring:\n",
    "                return frame\n",
    "        \n",
    "        return find_longest_common_substring(motifs, size-1)\n",
    "    else:\n",
    "        return -1\n",
    "\n",
    "#size = len(shortest_motif(motifs))\n",
    "#print(find_longest_common_substring(motifs, size=size))\n"
   ]
  },
  {
   "cell_type": "markdown",
   "metadata": {},
   "source": [
    "## REVP - Locating Restriction Sites"
   ]
  },
  {
   "cell_type": "code",
   "execution_count": null,
   "metadata": {},
   "outputs": [
    {
     "name": "stdout",
     "output_type": "stream",
     "text": [
      "365 4\n",
      "502 4\n",
      "839 4\n",
      "275 4\n",
      "663 4\n",
      "701 4\n",
      "911 4\n",
      "152 4\n",
      "796 4\n",
      "177 4\n",
      "230 4\n",
      "833 4\n",
      "872 4\n",
      "700 4\n",
      "93 4\n",
      "504 4\n",
      "252 4\n",
      "294 4\n",
      "456 4\n",
      "257 4\n",
      "378 4\n",
      "451 4\n",
      "595 4\n",
      "670 4\n",
      "846 4\n",
      "26 4\n",
      "147 4\n",
      "482 4\n",
      "627 4\n",
      "235 4\n",
      "370 4\n",
      "437 4\n",
      "444 4\n",
      "591 4\n",
      "756 4\n",
      "866 4\n",
      "105 4\n",
      "527 4\n",
      "737 4\n",
      "764 4\n",
      "1 4\n",
      "164 4\n",
      "357 4\n",
      "409 4\n",
      "411 4\n",
      "645 4\n",
      "827 4\n",
      "154 4\n",
      "215 4\n",
      "583 4\n",
      "57 4\n",
      "358 4\n",
      "410 4\n",
      "515 4\n",
      "644 4\n",
      "767 4\n",
      "455 6\n",
      "669 6\n",
      "436 6\n",
      "104 6\n",
      "845 6\n",
      "626 6\n",
      "755 6\n",
      "251 6\n",
      "293 6\n",
      "763 6\n",
      "409 6\n",
      "871 6\n",
      "454 8\n",
      "668 8\n",
      "435 8\n",
      "453 10\n",
      "667 10\n",
      "452 12\n"
     ]
    }
   ],
   "source": [
    "def find_complimentary_DNA(template):\n",
    "    forward = \"ATGC\"\n",
    "    reverse = \"TACG\"\n",
    "    table = template.maketrans(forward, reverse)\n",
    "\n",
    "    return template.translate(table)\n",
    "\n",
    "def is_palindrome(sequence):\n",
    "    return sequence[::-1] == find_complimentary_DNA(sequence)\n",
    "\n",
    "def find_palindromes(size):\n",
    "    products = list(product(\"ATGC\", repeat=size))\n",
    "    products = [\"\".join(item) for item in products]\n",
    "    palindromes = [DNA for DNA in products if DNA[::-1] == find_complimentary_DNA(DNA)]\n",
    "    \n",
    "    return palindromes\n",
    "\n",
    "def create_palindromes (start_size, end_size):\n",
    "    palindromes = []\n",
    "    for size in range(start_size, end_size+1, 2):\n",
    "        palindromes += find_palindromes(size)\n",
    "\n",
    "    return palindromes\n",
    "\n",
    "def save_palindromes_to_txt(palindromes):\n",
    "    palindromes = \",\".join(palindromes)\n",
    "    file = open(\"palindromes.txt\", \"w\")\n",
    "    file.write(palindromes)\n",
    "    file.close()\n",
    "\n",
    "#save_palindromes_to_txt(create_palindromes(4, 12))\n",
    "\n",
    "def load_palindromes(file_name):\n",
    "    file = open(file_name + \".txt\")\n",
    "    file = file.read()\n",
    "    palindromes = file.split(\",\")\n",
    "\n",
    "    return palindromes\n",
    "\n",
    "def find_restriction_sites(sequence, restriction_sites):\n",
    "    for site in restriction_sites:\n",
    "        location = sequence.find(site)\n",
    "        while location != -1:\n",
    "            print(location+1, len(site))\n",
    "            location = sequence.find(site, location+1)\n",
    "\n",
    "#palindromes = load_palindromes(\"palindromes\")\n",
    "#sequence = open_FASTA_file(\"rosalind_revp\")\n",
    "#sequence = list(sequence.values())[0]\n",
    "#find_restriction_sites(sequence=sequence, restriction_sites=palindromes)\n",
    "\n",
    "\n"
   ]
  },
  {
   "cell_type": "markdown",
   "metadata": {},
   "source": [
    "## PRTM - Calculating Protein Mass"
   ]
  },
  {
   "cell_type": "code",
   "execution_count": null,
   "metadata": {},
   "outputs": [
    {
     "data": {
      "text/plain": [
       "103707.11785000052"
      ]
     },
     "execution_count": 21,
     "metadata": {},
     "output_type": "execute_result"
    }
   ],
   "source": [
    "mass_table_file = r\"C:\\Users\\vente\\OneDrive\\Documents\\Code\\bioinformatics_challenges\\databases\\monoisotopic_mass_table_amino_acids.txt\"\n",
    "mass_table_file = list(map(lambda x: x.split(), open(mass_table_file).read().split(\"\\n\")))\n",
    "mass_table = {}\n",
    "for x in mass_table_file: mass_table[x[0]] = x[1]\n",
    "\n",
    "amino_acid_file = r\"C:\\Users\\vente\\Downloads\\rosalind_prtm.txt\"\n",
    "amino_acids = open(amino_acid_file).read().strip()\n",
    "\n",
    "protein_mass = 0\n",
    "for x in amino_acids:\n",
    "    protein_mass+=float(mass_table[x])\n",
    "protein_mass"
   ]
  },
  {
   "cell_type": "markdown",
   "metadata": {},
   "source": [
    "## SPLC - RNA Splicing"
   ]
  },
  {
   "cell_type": "code",
   "execution_count": 60,
   "metadata": {},
   "outputs": [],
   "source": [
    "file_directory = r\"C:\\Users\\vente\\Downloads\\rosalind_splc.txt\"\n",
    "\n",
    "sequences = list(open_FASTA_file(file_directory).values())\n",
    "DNA = sequences[0]\n",
    "introns = sequences[1:]\n",
    "\n",
    "for intron in introns:\n",
    "    DNA = DNA.replace(intron, \"\")\n",
    "\n",
    "codons = []\n",
    "for base in range(len(DNA)):\n",
    "    if (base+1) % 3 == 0:\n",
    "        codons.append(DNA[base+1-3:base+1])\n"
   ]
  },
  {
   "cell_type": "code",
   "execution_count": 61,
   "metadata": {},
   "outputs": [
    {
     "data": {
      "text/plain": [
       "'MFSLRFIISVLLALSGVHRFARPHPEGTSLKLDRSSKSATARYERHRSSFPEDGSGFSDGEQRATLLYLCRYEMASPLQSRQYGTRVHSRVISNLFSNVLEARSRIRLLTCPLGSPTSPAFSYLVCIADQLRVRLVYLAFSGYILVTGAARFLGKIVVVNAKLTQRLVGV'"
      ]
     },
     "execution_count": 61,
     "metadata": {},
     "output_type": "execute_result"
    }
   ],
   "source": [
    "RNA_codons_file = r\"C:\\Users\\vente\\OneDrive\\Documents\\Code\\bioinformatics_challenges\\databases\\RNA_codon_table.txt\"\n",
    "#RNA_codons = [[codon for codon in row.split(\"  \") if codon] for row in open(RNA_codons_file).read().split(\"\\n\")]\n",
    "RNA_codons = [codon[:3].strip() for codon in open(RNA_codons_file).read().replace(\"   \", \"\\n\").split(\"\\n\") if codon]\n",
    "DNA_codons = [codon.replace(\"U\", \"T\") for codon in RNA_codons]\n",
    "amino_acids = [codon[4:].strip() for codon in open(RNA_codons_file).read().replace(\"   \", \"\\n\").split(\"\\n\") if codon]\n",
    "DNA_amino_acids = {}\n",
    "\n",
    "for codon in range(len(DNA_codons)):\n",
    "    DNA_amino_acids[DNA_codons[codon]] = amino_acids[codon]\n",
    "\n",
    "protein = \"\".join([DNA_amino_acids[codon] for codon in codons])\n",
    "protein[:protein.find(\"Stop\")]"
   ]
  },
  {
   "cell_type": "markdown",
   "metadata": {},
   "source": [
    "## TRAN - Transitions and Transversions"
   ]
  },
  {
   "cell_type": "code",
   "execution_count": 10,
   "metadata": {},
   "outputs": [
    {
     "name": "stdout",
     "output_type": "stream",
     "text": [
      "2.09090909091\n"
     ]
    }
   ],
   "source": [
    "file_directory = r\"C:\\Users\\vente\\Downloads\\rosalind_tran.txt\"\n",
    "file = open_FASTA_file(file_directory)\n",
    "\n",
    "sequences = list(file.values())\n",
    "sequence_1 = sequences[0]\n",
    "sequence_2 = sequences[1]\n",
    "\n",
    "purines = [\"A\", \"G\"]\n",
    "pyrimidines = [\"C\", \"T\"]\n",
    "transitions = 0\n",
    "transversions = 0\n",
    "\n",
    "for base in range(len(sequence_1)):\n",
    "    if sequence_1[base] != sequence_2[base]:\n",
    "        if (sequence_1[base] in purines and sequence_2[base] in purines) or (sequence_1[base] in pyrimidines and sequence_2[base] in pyrimidines):\n",
    "            transitions+=1\n",
    "        else:\n",
    "            transversions+=1\n",
    "\n",
    "print(round(transitions/transversions, 11))"
   ]
  },
  {
   "cell_type": "markdown",
   "metadata": {},
   "source": [
    "## SSEQ - Finding a Spliced Motif"
   ]
  },
  {
   "cell_type": "code",
   "execution_count": 13,
   "metadata": {},
   "outputs": [
    {
     "name": "stdout",
     "output_type": "stream",
     "text": [
      "19 23 29 38 44 47 49 59 67 69 73 76 80 94 98 100 106 110 112 121 123 126 131 139 141 145 149 153 162 166 169 174 177 179 182 191 200 203 205 212 214 218 223 229 236 239 243 246 258 278 281 289 291 299 304 311 321 324 332 340 342 345 359 364 368 380 385 388 400 405\n"
     ]
    }
   ],
   "source": [
    "file_directory = r\"C:\\Users\\vente\\Downloads\\rosalind_sseq.txt\"\n",
    "sequences_s, sequences_t = tuple(open_FASTA_file(file_directory).values())\n",
    "indeces = []\n",
    "start = 0\n",
    "for base in range(len(sequences_t)):\n",
    "    index = sequences_s.find(sequences_t[base], start)\n",
    "    indeces.append(index+1)\n",
    "    start=index+1+1\n",
    "\n",
    "print(\" \".join(list(map(str, indeces))))"
   ]
  },
  {
   "cell_type": "markdown",
   "metadata": {},
   "source": [
    "## MPRT - Finding a Protein Motif"
   ]
  },
  {
   "cell_type": "code",
   "execution_count": 16,
   "metadata": {},
   "outputs": [
    {
     "name": "stdout",
     "output_type": "stream",
     "text": [
      "Q8ER84\n",
      "33\n",
      "P01046_KNL1_BOVIN\n",
      "47 87 168 169 197 204\n",
      "P39873_RNBR_BOVIN\n",
      "88\n",
      "Q14ID0\n",
      "49\n",
      "P19835_BAL_HUMAN\n",
      "207\n",
      "P23185\n",
      "71 77\n",
      "P01588_EPO_HUMAN\n",
      "51 65 110\n",
      "O82484\n",
      "104 108 546 742 765\n",
      "P43541\n",
      "129\n",
      "P04141_CSF2_HUMAN\n",
      "44 54\n",
      "P00740_FA9_HUMAN\n",
      "203 213\n"
     ]
    }
   ],
   "source": [
    "file_directory = r\"C:\\Users\\vente\\Downloads\\rosalind_mprt.txt\"\n",
    "proteins = open(file_directory).read().split()\n",
    "\n",
    "motif_locations = []\n",
    "for protein in proteins:\n",
    "    if \"_\" in protein:\n",
    "        accession = protein[:protein.find(\"_\")]\n",
    "    else:\n",
    "        accession = protein\n",
    "    \n",
    "    fasta = requests.get(f\"http://www.uniprot.org/uniprot/{accession}.fasta\").text\n",
    "    sequence = fasta[fasta.find(\"\\n\")+1:].replace(\"\\n\", \"\")\n",
    "    \n",
    "    indeces = []\n",
    "    for AA in range(len(sequence)):\n",
    "        try:\n",
    "            if sequence[AA] == \"N\":\n",
    "                if sequence[AA+1] == \"P\":\n",
    "                    continue\n",
    "                else:\n",
    "                    allowed = [\"S\", \"T\"]\n",
    "                    if sequence[AA+2] in allowed:\n",
    "                        if sequence[AA+3] == \"P\":\n",
    "                            continue\n",
    "                        else:\n",
    "                            indeces.append(str(AA+1))\n",
    "        except:\n",
    "            continue\n",
    "    if indeces:\n",
    "        print(protein + \"\\n\" + \" \".join(indeces))\n"
   ]
  },
  {
   "cell_type": "markdown",
   "metadata": {},
   "source": [
    "## LCSQ - Finding a Shared Spliced Motif"
   ]
  },
  {
   "cell_type": "code",
   "execution_count": 16,
   "metadata": {},
   "outputs": [
    {
     "name": "stdout",
     "output_type": "stream",
     "text": [
      "ACGCAACAAACCCGTTATGACCACGCCCGGCCTAGAAGGCTTTCTTAGCACGGTACGCGGAAGCATTTTATCGACGTCTTAGCGTGTCTGTGGGGGGGAGAGTTGCTCAGAGATGTTTGGCAATATTAACATGCCGGAAACCTTTCGTGGGGAATTTGGAAGTCCCCCAAATGAACCATGCCGCGGAACTTTAGGAAGTTGGCAAGATTAAGTAAATGCAAGGCCTTGTCTCGATGCGGGAAACTGCAGATAGATGCGTCCTACCACACGTATCATGCTT\n"
     ]
    }
   ],
   "source": [
    "file_directory = r\"C:\\Users\\vente\\Downloads\\rosalind_lcsq (2).txt\"\n",
    "sequences = list(open_FASTA_file(file_directory).values())\n",
    "if len(sequences[0]) < len(sequences[1]):\n",
    "    reference = sequences[0]\n",
    "    query = sequences[1]\n",
    "else:\n",
    "    reference = sequences[1]\n",
    "    query = sequences[0]\n",
    "\n",
    "long_common = \"\"\n",
    "for base1 in range(len(reference)):\n",
    "    start = 0\n",
    "    common = \"\"\n",
    "    for base in range(base1, len(reference)):\n",
    "        index = query.find(reference[base], start)\n",
    "        if index == -1:\n",
    "            continue\n",
    "        else:\n",
    "            common+=reference[base]\n",
    "            start = index+1\n",
    "    if len(common) > len(long_common): long_common = common\n",
    "\n",
    "print(long_common)"
   ]
  }
 ],
 "metadata": {
  "kernelspec": {
   "display_name": "Python 3.10.4 64-bit",
   "language": "python",
   "name": "python3"
  },
  "language_info": {
   "codemirror_mode": {
    "name": "ipython",
    "version": 3
   },
   "file_extension": ".py",
   "mimetype": "text/x-python",
   "name": "python",
   "nbconvert_exporter": "python",
   "pygments_lexer": "ipython3",
   "version": "3.10.4"
  },
  "orig_nbformat": 4,
  "vscode": {
   "interpreter": {
    "hash": "311724412226088b683ffffa8f56bd226d9eb83eedc73f5fb48200bda608b17b"
   }
  }
 },
 "nbformat": 4,
 "nbformat_minor": 2
}
